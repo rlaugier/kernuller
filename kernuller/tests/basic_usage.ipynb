{
 "cells": [
  {
   "cell_type": "code",
   "execution_count": null,
   "metadata": {},
   "outputs": [],
   "source": [
    "import numpy as np\n",
    "import sympy as sp\n",
    "import matplotlib.pyplot as plt\n",
    "#import kernuller_class as kernuller\n",
    "import kernuller\n",
    "import astropy.coordinates\n",
    "import astropy.units as u\n",
    "\n",
    "from time import time"
   ]
  },
  {
   "cell_type": "markdown",
   "metadata": {},
   "source": [
    "# Common use cases\n",
    "## Three-input kernel nuller\n",
    "To maintain flexibility, things are done in several steps.\n",
    "\n",
    "1. Choosing an array of aperture coordinates (here by cropping the list of VLTI apertures\n",
    "1. Creating the kernuller object\n",
    "1. Building the model with the `build_procedural_model()` method\n",
    "1. Building a generic kernel matrix for 2 inputs"
   ]
  },
  {
   "cell_type": "code",
   "execution_count": null,
   "metadata": {},
   "outputs": [],
   "source": [
    "statlocs = kernuller.VLTI[1:]\n",
    "statnames = [\"UT2\", \"UT3\", \"UT4\"] #Giving names to the apertures for the plot\n",
    "mykernuller = kernuller.kernuller(statlocs,3.6e-6)\n",
    "mykernuller.build_procedural_model(verbose=False)\n",
    "mykernuller.K = kernuller.pairwise_kernel(2)\n",
    "\n",
    "fig = mykernuller.plot_pupils(offset=2,s=80,\n",
    "                              marginratio=7.,\n",
    "                              title=False,\n",
    "                              pupil_indices=statnames,\n",
    "                              showlegend=True)\n",
    "#fig.axes[0].set_xlim(-20,350)\n",
    "plt.show()"
   ]
  },
  {
   "cell_type": "markdown",
   "metadata": {},
   "source": [
    "\n",
    "## Plotting the sagital Complex Matrix Plot\n",
    "TODO: It does not include the bright row.\n",
    "\n",
    "This procedure builds $\\mathbf{N}$ and $\\mathbf{S}$ matrices. We have to add the bright output manually\n",
    "\n",
    "Here is the procedure:\n",
    "\n",
    "1. We use a vstack to add the bright row\n",
    "1. We use a vstack to add a blank row that will be used to have a blank spot in the grid of plots\n",
    "1. We create the `base_preoffset` that is an array of offsets to manually move the overlapping arrows in plot of the bright row (by default the plotting routine makes incremental offsets)\n",
    "1. We create labels for the outputs (`outlabeld`) and insert a blank item to match the blankrow of the matrix\n",
    "\n",
    "\n"
   ]
  },
  {
   "cell_type": "code",
   "execution_count": null,
   "metadata": {},
   "outputs": [],
   "source": [
    "Mn = np.vstack([1/np.sqrt(3)*np.ones(3),mykernuller.S.dot(mykernuller.Np)])\n",
    "Mn2 = np.vstack((Mn[:1,:], np.zeros_like(Mn[1,:]), Mn[1:,:]))\n",
    "\n",
    "base_preoffset = np.zeros_like(Mn2)\n",
    "base_preoffset[0,:] = np.linspace(0-0.05j,0+0.05j,base_preoffset.shape[1])\n",
    "outlabels = [\"Output %d\"%(i) for i in range(7)]\n",
    "outlabels.insert(1, \"\")\n",
    "fig, axs = mykernuller.plot_outputs_smart(Mn2,base_preoffset=base_preoffset,\n",
    "                                          nx=2,plotsize=3,\n",
    "                                          osfrac=0.1, title=False,\n",
    "                                          labels=False,\n",
    "                                          legendoffset=(1.6,0.5),\n",
    "                                          out_label=outlabels,\n",
    "                                          thealpha=0.05,\n",
    "                                          onlyoneticklabel=False,\n",
    "                                          rlabelpos=90, dpi=100)"
   ]
  },
  {
   "cell_type": "markdown",
   "metadata": {},
   "source": [
    "## Plotting CMP including the output combination\n",
    "Here done for three on-sky positions (three phasings of the inputs) that are:\n",
    "1. Unresolved\n",
    "1. Partially resolved\n",
    "1. On the peak of throughput\n",
    "\n",
    "To do that:\n",
    "\n",
    "1. Each position is defined in separation $\\rho$ and position angle $\\theta$ relative to the optical axis.\n",
    "1. The `rmax` parameter is defined to adjust manually the radial extent of the plot (often needed when plotting the output)\n",
    "1. A signal of unit amplitude is created with the method `kernuller.incoming_light()` and the signal is normalized (the `binary=` parameter will create both the light from an on-axis source and one from a companion. Here, we take only the companion)\n",
    "1.  The `plot_outputs_smart` is called to plot everything, and the light is passed in the `inputfield` parameter.\n",
    "\n",
    "Outlabels and other stuff are reused.\n"
   ]
  },
  {
   "cell_type": "code",
   "execution_count": null,
   "metadata": {},
   "outputs": [],
   "source": [
    "titles = [\"Unresolved\",\n",
    "         \"Partially resolved\",\n",
    "         \"On the peak\"]\n",
    "rhosteps = np.linspace(0,5.8,3)\n",
    "thetasteps = 116.*np.ones_like(rhosteps)\n",
    "rmaxes = np.array([1., 1.5, 1.8])\n",
    "for i in range(rhosteps.shape[0]):\n",
    "    print(rhosteps[i], thetasteps[i])\n",
    "    input_binary = mykernuller.incoming_light(1,binary=np.array([rhosteps[i],thetasteps[i] , 1.]))#110. +180\n",
    "    input_binary = input_binary/ input_binary[1,0]\n",
    "    fig, axs = mykernuller.plot_outputs_smart(Mn2,inputfield=input_binary[1],\n",
    "                                              nx=2,legendoffset=(1.75,0.5),\n",
    "                                              plotsize=3, osfrac=0.1,\n",
    "                                              title=titles[i], mainlinewidth=0.03,\n",
    "                                              plotspaces=(0.35,0.4),\n",
    "                                              rmax=rmaxes[i],\n",
    "                                              legendstring=\"center left\",\n",
    "                                              rlabelpos=45, out_label=outlabels,\n",
    "                                              labels=False, onlyoneticklabel=False,\n",
    "                                              outputontop=(rhosteps[i]<2.),\n",
    "                                              thealpha=0.05, dpi=80)"
   ]
  },
  {
   "cell_type": "markdown",
   "metadata": {},
   "source": [
    "## Building response maps\n",
    "1. Construct the grid of coordinates to be used.\n",
    "1. Here, i just use complex formalism to convert to polar coordinates\n",
    "1. `mapparams` is a flattened map of parameters in the same format as xara binary (separation, position angle, contrast primary/secondary)\n",
    "1. `outintensities` are built that correspond to the output signal for the light from each of these postions\n",
    "1. `outkers` are the corresponding kernel-signals\n"
   ]
  },
  {
   "cell_type": "code",
   "execution_count": null,
   "metadata": {},
   "outputs": [],
   "source": [
    "xx, yy = np.meshgrid(np.linspace(-20,20,256), np.linspace(-20,20,256))\n",
    "cpx = xx + yy*1j\n",
    "rhos = np.abs(cpx).flatten()\n",
    "thetas = (np.angle(cpx)*180/np.pi - 90).flatten()\n",
    "mapparams = np.array([[rhos[i], thetas[i], 1] for i in range(rhos.shape[0])])\n",
    "outintensities = np.array([mykernuller.get_I(binary=mapparams[i]) for i in range(mapparams.shape[0])])\n",
    "outkers = mykernuller.K.dot(outintensities.T).T\n",
    "#nullmap = outintensities.reshape((xx.shape[0], xx.shape[1], mykernuller.K.shape[1]))\n",
    "nullmap = np.array([outintensities[:,i].reshape(xx.shape) for i in range(outintensities.shape[1])])\n",
    "#kermap = outkers.reshape((xx.shape[0], xx.shape[1], mykernuller.K.shape[0]))\n",
    "kermap = np.array([outkers[:,i].reshape(xx.shape) for i in range(outkers.shape[1])])"
   ]
  },
  {
   "cell_type": "markdown",
   "metadata": {},
   "source": [
    "The maps can the be plotted using `plot_response_maps()`. This is another method that has a large number of parameters, including the number of columns, colorbar labels, dpi, etc..."
   ]
  },
  {
   "cell_type": "code",
   "execution_count": null,
   "metadata": {},
   "outputs": [],
   "source": [
    "fig, axs = mykernuller.plot_response_maps(nullmap, nx=1, cmap=\"inferno\", title=False,\n",
    "                                          plotsize=4, cbar_label=\"null value (singla aperture flux)\",\n",
    "                                          extent=[np.min(xx),np.max(xx), np.min(yy), np.max(yy)], dpi=100)\n",
    "noise = np.sqrt(nullmap.sum(axis=0))\n",
    "plt.figure()\n",
    "plt.imshow(np.abs(kermap[0])/noise, cmap=\"inferno\")\n",
    "plt.colorbar()\n",
    "plt.title(\"SNR (shot noise)\")\n",
    "plt.show()\n",
    "\n",
    "plt.figure()\n",
    "plt.imshow(np.sum(nullmap, axis=0), cmap=\"inferno\")\n",
    "plt.colorbar()\n",
    "plt.title(\"sum of nulls\")\n",
    "plt.show()\n",
    "\n",
    "fig, axs = mykernuller.plot_response_maps(kermap, title=False,cbar_label=\"Kernel-null value (single aperture flux)\",\n",
    "                                          extent=[np.min(xx),np.max(xx), np.min(yy), np.max(yy)],\n",
    "                                         plotsize=4, dpi=100)"
   ]
  },
  {
   "cell_type": "markdown",
   "metadata": {},
   "source": [
    "# The Four telescopes kernel nuller\n",
    "Works exactly the same as with 3 inputs"
   ]
  },
  {
   "cell_type": "code",
   "execution_count": null,
   "metadata": {},
   "outputs": [],
   "source": [
    "statlocs = kernuller.VLTI\n",
    "mykernuller = kernuller.kernuller(statlocs, 3.6e-6)\n",
    "mykernuller.build_procedural_model()\n",
    "#matrices, recipes = kernuller.generative_random_pruning(mykernuller.Ms, 1)\n",
    "#mymatrix = np.load(\"didactic_plot_matrix.npy\", allow_pickle=True)\n",
    "#ykernuller.build_model_from_matrix(mymatrix)"
   ]
  },
  {
   "cell_type": "markdown",
   "metadata": {},
   "source": [
    "Note that this time, we let the plotting tool come up with automatic offsets for overlapping arrows."
   ]
  },
  {
   "cell_type": "code",
   "execution_count": null,
   "metadata": {},
   "outputs": [],
   "source": [
    "#invec = 1*np.exp(1j*np.random.normal(scale=0.1, size=4))\n",
    "Mn = np.array(sp.N(mykernuller.Ms), dtype=np.complex64)\n",
    "Mn2 = np.vstack((Mn[:1,:], np.zeros_like(Mn[1,:]), Mn[1:,:]))\n",
    "invec = np.array([0.9944306 -0.10539342j,\n",
    "                  0.99986418-0.01648085j,\n",
    "                  0.99544197+0.0953692j ,\n",
    "                  0.99997709-0.00676858j])\n",
    "fig, axs = mykernuller.plot_outputs_smart(Mn2, nx=2,\n",
    "                                          legendoffset=(1.5,0.5),\n",
    "                                          dpi=100, plotsize=3,\n",
    "                                          osfrac=0.1, title=False,\n",
    "                                          mainlinewidth=0.03,\n",
    "                                          labelsize=10,\n",
    "                                          legendstring=\"center left\",\n",
    "                                          outputontop=True,\n",
    "                                          labels=False,\n",
    "                                          onlyoneticklabel=False)\n",
    "kernuller.printlatex(sp.expand_power_exp(mykernuller.Ms))"
   ]
  },
  {
   "cell_type": "code",
   "execution_count": null,
   "metadata": {},
   "outputs": [],
   "source": [
    "xx, yy = np.meshgrid(np.linspace(-20,20,256), np.linspace(-20,20,256))\n",
    "cpx = xx + yy*1j\n",
    "rhos = np.abs(cpx).flatten()\n",
    "thetas = (np.angle(cpx)*180/np.pi - 90).flatten()\n",
    "mapparams = np.array([[rhos[i], thetas[i], 1] for i in range(rhos.shape[0])])\n",
    "outintensities = np.array([mykernuller.get_I(binary=mapparams[i]) for i in range(mapparams.shape[0])])\n",
    "outkers = mykernuller.K.dot(outintensities.T).T\n",
    "#nullmap = outintensities.reshape((xx.shape[0], xx.shape[1], mykernuller.K.shape[1]))\n",
    "nullmap = np.array([outintensities[:,i].reshape(xx.shape) for i in range(outintensities.shape[1])])\n",
    "#kermap = outkers.reshape((xx.shape[0], xx.shape[1], mykernuller.K.shape[0]))\n",
    "kermap = np.array([outkers[:,i].reshape(xx.shape) for i in range(outkers.shape[1])])"
   ]
  },
  {
   "cell_type": "markdown",
   "metadata": {},
   "source": [
    "The maps can the be plotted using `plot_response_maps()`. This is another method that has a large number of parameters, including the number of columns, colorbar labels, dpi, etc..."
   ]
  },
  {
   "cell_type": "code",
   "execution_count": null,
   "metadata": {},
   "outputs": [],
   "source": [
    "fig, axs = mykernuller.plot_response_maps(nullmap, nx=2, cmap=\"inferno\", title=False,\n",
    "                                          plotsize=4, cbar_label=\"null value (singla aperture flux)\",\n",
    "                                          extent=[np.min(xx),np.max(xx), np.min(yy), np.max(yy)], dpi=100)\n",
    "noise = np.sqrt(nullmap.sum(axis=0))\n",
    "plt.figure()\n",
    "plt.imshow(np.abs(kermap[0])/noise, cmap=\"inferno\")\n",
    "plt.colorbar()\n",
    "plt.title(\"SNR (shot noise)\")\n",
    "plt.show()\n",
    "\n",
    "plt.figure()\n",
    "plt.imshow(np.sum(nullmap, axis=0), cmap=\"inferno\")\n",
    "plt.colorbar()\n",
    "plt.title(\"sum of nulls\")\n",
    "plt.show()\n",
    "\n",
    "fig, axs = mykernuller.plot_response_maps(kermap, title=False,cbar_label=\"Kernel-null value (single aperture flux)\",\n",
    "                                          extent=[np.min(xx),np.max(xx), np.min(yy), np.max(yy)],\n",
    "                                         plotsize=4, dpi=100)"
   ]
  },
  {
   "cell_type": "markdown",
   "metadata": {},
   "source": [
    "# Building models from pre-computed matrices\n",
    "Pre-computed matrices are available in `kernuller.nullers` for 3, 4, 5, and 6 telescopes. They are reduced, normalized and complete."
   ]
  },
  {
   "cell_type": "code",
   "execution_count": null,
   "metadata": {},
   "outputs": [],
   "source": [
    "import kernuller.nullers"
   ]
  },
  {
   "cell_type": "markdown",
   "metadata": {},
   "source": [
    "## A 5 -input combiner"
   ]
  },
  {
   "cell_type": "code",
   "execution_count": null,
   "metadata": {},
   "outputs": [],
   "source": [
    "mymatrix_5 = kernuller.nullers.matrices_5T[0]\n",
    "mykernuller_5 = kernuller.kernuller(kernuller.CHARA[:5],3.6e-6)\n",
    "mykernuller_5.build_model_from_matrix(mymatrix_5)\n",
    "mykernuller_5.K = kernuller.pairwise_kernel(12)"
   ]
  },
  {
   "cell_type": "code",
   "execution_count": null,
   "metadata": {},
   "outputs": [],
   "source": [
    "Mn = np.array(sp.N(mykernuller_5.Ms), dtype=np.complex64)\n",
    "Mn2 = np.vstack((Mn[:1,:], np.zeros_like(Mn[1:4,:]), Mn[1:,:]))\n",
    "fig, axs = mykernuller_5.plot_outputs_smart(Mn2, nx=4,legendoffset=(1.5,0.5),dpi=100,\n",
    "                                          plotsize=3, osfrac=0.1, title=False, mainlinewidth=0.03,\n",
    "                                          labelsize=10,legendstring=\"center left\", outputontop=True,\n",
    "                                          labels=False, onlyoneticklabel=False)"
   ]
  },
  {
   "cell_type": "code",
   "execution_count": null,
   "metadata": {},
   "outputs": [],
   "source": [
    "xx, yy = np.meshgrid(np.linspace(-15,15,256), np.linspace(-15,15,256))\n",
    "cpx = xx + yy*1j\n",
    "rhos = np.abs(cpx).flatten()\n",
    "thetas = (np.angle(cpx)*180/np.pi - 90).flatten()\n",
    "mapparams = np.array([[rhos[i], thetas[i], 1] for i in range(rhos.shape[0])])\n",
    "outintensities = np.array([mykernuller_5.get_I(binary=mapparams[i]) for i in range(mapparams.shape[0])])\n",
    "outkers = mykernuller_5.K.dot(outintensities.T).T\n",
    "#nullmap = outintensities.reshape((xx.shape[0], xx.shape[1], mykernuller_5.K.shape[1]))\n",
    "nullmap = np.array([outintensities[:,i].reshape(xx.shape) for i in range(outintensities.shape[1])])\n",
    "#kermap = outkers.reshape((xx.shape[0], xx.shape[1], mykernuller_5.K.shape[0]))\n",
    "kermap = np.array([outkers[:,i].reshape(xx.shape) for i in range(outkers.shape[1])])"
   ]
  },
  {
   "cell_type": "markdown",
   "metadata": {},
   "source": [
    "The maps can the be plotted using `plot_response_maps()`. This is another method that has a large number of parameters, including the number of columns, colorbar labels, dpi, etc..."
   ]
  },
  {
   "cell_type": "code",
   "execution_count": null,
   "metadata": {},
   "outputs": [],
   "source": [
    "fig, axs = mykernuller_5.plot_response_maps(nullmap, nx=4, cmap=\"inferno\", title=False,\n",
    "                                          plotsize=4, cbar_label=\"null value (singla aperture flux)\",\n",
    "                                          extent=[np.min(xx),np.max(xx), np.min(yy), np.max(yy)], dpi=100)\n",
    "noise = np.sqrt(nullmap.sum(axis=0))\n",
    "plt.figure()\n",
    "plt.imshow(np.abs(kermap[0])/noise, cmap=\"inferno\")\n",
    "plt.colorbar()\n",
    "plt.title(\"SNR (shot noise)\")\n",
    "plt.show()\n",
    "\n",
    "plt.figure()\n",
    "plt.imshow(np.sum(nullmap, axis=0), cmap=\"inferno\")\n",
    "plt.colorbar()\n",
    "plt.title(\"sum of nulls\")\n",
    "plt.show()\n",
    "\n",
    "fig, axs = mykernuller_5.plot_response_maps(kermap,nx=2, title=False,cbar_label=\"Kernel-null value (single aperture flux)\",\n",
    "                                          extent=[np.min(xx),np.max(xx), np.min(yy), np.max(yy)],\n",
    "                                         plotsize=4, dpi=100)"
   ]
  },
  {
   "cell_type": "markdown",
   "metadata": {},
   "source": [
    "## A 6 -input combiner"
   ]
  },
  {
   "cell_type": "code",
   "execution_count": null,
   "metadata": {},
   "outputs": [],
   "source": [
    "mymatrix_6 = kernuller.nullers.matrices_6T[0]\n",
    "mykernuller_6 = kernuller.kernuller(kernuller.CHARA[:],3.6e-6)\n",
    "mykernuller_6.build_model_from_matrix(mymatrix_6)\n",
    "mykernuller_6.K = kernuller.pairwise_kernel(20)"
   ]
  },
  {
   "cell_type": "code",
   "execution_count": null,
   "metadata": {},
   "outputs": [],
   "source": [
    "Mn = np.array(sp.N(mykernuller_6.Ms), dtype=np.complex64)\n",
    "Mn2 = np.vstack((Mn[:1,:], np.zeros_like(Mn[1:4,:]), Mn[1:,:]))\n",
    "fig, axs = mykernuller_6.plot_outputs_smart(Mn2, nx=4,legendoffset=(1.5,0.5),dpi=100,\n",
    "                                          plotsize=3, osfrac=0.1, title=False, mainlinewidth=0.03,\n",
    "                                          labelsize=10,legendstring=\"center left\", outputontop=True,\n",
    "                                          labels=False, onlyoneticklabel=False)"
   ]
  },
  {
   "cell_type": "code",
   "execution_count": null,
   "metadata": {},
   "outputs": [],
   "source": [
    "xx, yy = np.meshgrid(np.linspace(-15,15,256), np.linspace(-15,15,256))\n",
    "cpx = xx + yy*1j\n",
    "rhos = np.abs(cpx).flatten()\n",
    "thetas = (np.angle(cpx)*180/np.pi - 90).flatten()\n",
    "mapparams = np.array([[rhos[i], thetas[i], 1] for i in range(rhos.shape[0])])\n",
    "outintensities = np.array([mykernuller_6.get_I(binary=mapparams[i]) for i in range(mapparams.shape[0])])\n",
    "outkers = mykernuller_6.K.dot(outintensities.T).T\n",
    "#nullmap = outintensities.reshape((xx.shape[0], xx.shape[1], mykernuller_6.K.shape[1]))\n",
    "nullmap = np.array([outintensities[:,i].reshape(xx.shape) for i in range(outintensities.shape[1])])\n",
    "#kermap = outkers.reshape((xx.shape[0], xx.shape[1], mykernuller_6.K.shape[0]))\n",
    "kermap = np.array([outkers[:,i].reshape(xx.shape) for i in range(outkers.shape[1])])"
   ]
  },
  {
   "cell_type": "markdown",
   "metadata": {},
   "source": [
    "The maps can the be plotted using `plot_response_maps()`. This is another method that has a large number of parameters, including the number of columns, colorbar labels, dpi, etc..."
   ]
  },
  {
   "cell_type": "code",
   "execution_count": null,
   "metadata": {},
   "outputs": [],
   "source": [
    "fig, axs = mykernuller_6.plot_response_maps(nullmap, nx=4, cmap=\"inferno\", title=False,\n",
    "                                          plotsize=4, cbar_label=\"null value (singla aperture flux)\",\n",
    "                                          extent=[np.min(xx),np.max(xx), np.min(yy), np.max(yy)], dpi=100)\n",
    "noise = np.sqrt(nullmap.sum(axis=0))\n",
    "plt.figure()\n",
    "plt.imshow(np.abs(kermap[0])/noise, cmap=\"inferno\")\n",
    "plt.colorbar()\n",
    "plt.title(\"SNR (shot noise)\")\n",
    "plt.show()\n",
    "\n",
    "plt.figure()\n",
    "plt.imshow(np.sum(nullmap, axis=0), cmap=\"inferno\")\n",
    "plt.colorbar()\n",
    "plt.title(\"sum of nulls\")\n",
    "plt.show()\n",
    "\n",
    "fig, axs = mykernuller_6.plot_response_maps(kermap,nx=2, title=False,cbar_label=\"Kernel-null value (single aperture flux)\",\n",
    "                                          extent=[np.min(xx),np.max(xx), np.min(yy), np.max(yy)],\n",
    "                                         plotsize=4, dpi=100)"
   ]
  },
  {
   "cell_type": "markdown",
   "metadata": {},
   "source": [
    "# A few legacy functionalities\n",
    "## Building the model from the paper\n",
    "### Building from hard-coded matrices\n",
    "`kernuller.build_classical_model()` helps you build the model from Martinache & Ireland 2018 from hard-coded matrices."
   ]
  },
  {
   "cell_type": "code",
   "execution_count": null,
   "metadata": {},
   "outputs": [],
   "source": [
    "mykernuller = kernuller.kernuller(kernuller.VLTI,5.e-6)\n",
    "mykernuller.build_classical_model(verbose=False)"
   ]
  },
  {
   "cell_type": "markdown",
   "metadata": {},
   "source": [
    "## Building a symbolic model"
   ]
  },
  {
   "cell_type": "code",
   "execution_count": null,
   "metadata": {},
   "outputs": [],
   "source": [
    "mykernuller = kernuller.kernuller(kernuller.VLTI,5.e-6)\n",
    "mykernuller.build_symbolic_model(verbose=False)\n",
    "fig, axs = mykernuller.legacy_nulled_output(valtheta=sp.pi/3, simplified=False)"
   ]
  },
  {
   "cell_type": "code",
   "execution_count": null,
   "metadata": {},
   "outputs": [],
   "source": [
    "fig, axs = mykernuller.legacy_nulled_output(valtheta=sp.pi/3, simplified=True)\n",
    "theM = np.vstack([1/2*np.ones(4),mykernuller.Np])\n",
    "base_preoffset = np.zeros_like(theM)\n",
    "base_preoffset[0,:] = np.linspace(0-0.05j,0+0.05j,base_preoffset.shape[1])\n",
    "semioffset = np.linspace(0-0.025j,0+0.025j,base_preoffset.shape[1]//2)\n",
    "base_preoffset[1,:] = np.concatenate((semioffset,semioffset))\n",
    "base_preoffset[2,:] = np.concatenate((semioffset,semioffset))\n",
    "base_preoffset[3,:] = np.concatenate((semioffset,semioffset))\n",
    "\n",
    "outlabels = [\"Output %d\"%(i) for i in range(4)]\n",
    "fig, axs = mykernuller.plot_outputs_smart(matrix=theM, base_preoffset=base_preoffset,\n",
    "                                          nx=2,legend=True, plotsize=3, onlyonelegend=True,legendstring=\"center left\",\n",
    "                                          title=False, legendoffset=(0.95,-0.), labels=False, rlabelpos=90,\n",
    "                                          onlyoneticklabel=False, out_label=outlabels, thealpha=0.1,dpi=100,\n",
    "                                          )\n",
    "\n",
    "#fig, axs = mykernuller.legacy_nulled_output(valtheta=sp.pi/2, simplified=True)\n",
    "\n",
    "fig, axs = mykernuller.plot_nulled_outputs(matrix=np.vstack([1/2*np.ones(4),mykernuller.S.dot(mykernuller.Np)]),nx=1)\n",
    "\n",
    "theM = np.vstack([1/2*np.ones(4), np.zeros(4),mykernuller.S.dot(mykernuller.Np)])\n",
    "base_preoffset = np.zeros_like(theM)\n",
    "base_preoffset[0,:] = np.linspace(0-0.05j,0+0.05j,base_preoffset.shape[1])\n",
    "outlabels = [\"Output %d\"%(i) for i in range(7)]\n",
    "outlabels.insert(1, \"\")\n",
    "fig, axs = mykernuller.plot_outputs_smart(matrix=theM, base_preoffset=base_preoffset,labels=False,\n",
    "                                          nx=2, plotsize=3,onlyonelegend=True,legendoffset=(1.5,0.5), rlabelpos=90,\n",
    "                                          title=False,legendstring=\"center left\", onlyoneticklabel=False,\n",
    "                                          out_label=outlabels, thealpha=0.1, dpi=100)\n",
    "\n",
    "\n",
    "\n",
    "\n",
    "Mn = np.vstack([1/2*np.ones(4),mykernuller.S.dot(mykernuller.Np)])\n",
    "u, s, vh = np.linalg.svd(Mn)\n",
    "\n",
    "print(s)"
   ]
  },
  {
   "cell_type": "code",
   "execution_count": null,
   "metadata": {},
   "outputs": [],
   "source": []
  },
  {
   "cell_type": "code",
   "execution_count": null,
   "metadata": {},
   "outputs": [],
   "source": []
  }
 ],
 "metadata": {
  "kernelspec": {
   "display_name": "Python 3",
   "language": "python",
   "name": "python3"
  },
  "language_info": {
   "codemirror_mode": {
    "name": "ipython",
    "version": 3
   },
   "file_extension": ".py",
   "mimetype": "text/x-python",
   "name": "python",
   "nbconvert_exporter": "python",
   "pygments_lexer": "ipython3",
   "version": "3.7.3"
  }
 },
 "nbformat": 4,
 "nbformat_minor": 4
}
