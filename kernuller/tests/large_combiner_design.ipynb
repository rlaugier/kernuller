{
 "cells": [
  {
   "cell_type": "markdown",
   "metadata": {},
   "source": [
    "# Building and pruning of large combiner matrices\n",
    "With, kernuller, it is easy to build large matrices for combiners of many inputs (within the bounds of your RAM).\n",
    "Here, we show how to identify the amount of observations provided by those combiners, and some tools to reduce the number of outputs to its minimum, which is still a challenge.\n",
    "## Evaluation of the number of independent outputs\n",
    "The first step is to be able to evaluate the number of independant outputs."
   ]
  },
  {
   "cell_type": "code",
   "execution_count": 1,
   "metadata": {},
   "outputs": [
    {
     "name": "stdout",
     "output_type": "stream",
     "text": [
      "Building a model from scratch\n"
     ]
    }
   ],
   "source": [
    "import numpy as np\n",
    "import sympy as sp\n",
    "import matplotlib.pyplot as plt\n",
    "import kernuller\n",
    "import astropy.coordinates\n",
    "import astropy.units as u\n",
    "\n",
    "from time import time"
   ]
  },
  {
   "cell_type": "markdown",
   "metadata": {},
   "source": [
    "Here, we use set up a number of random binary parameters that must cover the input (observed scene parameter space). This number should be larger than the number of outputs of the combiners tested. (Using random numbers helps making sure we do not fall into symmetry or spacial frequency tropes, but the analysis should also work with a grid of source positions). "
   ]
  },
  {
   "cell_type": "code",
   "execution_count": 2,
   "metadata": {},
   "outputs": [],
   "source": [
    "nrands = 400\n",
    "randrhos = 0.5+ 40*np.random.rand(nrands)\n",
    "randthetas = 360*np.random.rand(nrands)\n",
    "randconts = 400*np.ones(nrands)\n",
    "params = np.array([[randrhos[i], randthetas[i], randconts[i]] for i in range(randrhos.shape[0])])"
   ]
  },
  {
   "cell_type": "markdown",
   "metadata": {},
   "source": [
    "We build a specific `CHARA2` array that has 7 apertures in a non-redundant configuration.\n",
    "\n",
    "For each size of array (3 to 7 apertures):\n",
    "\n",
    "1. We use the `kernuller.expected_numbers()` method to guess at what numbers we will get for a given number of apertures\n",
    "1. We build a kernuller object\n",
    "1. then use the `get_rank()` methods with the array of test parameters\n",
    "    1. once for the nulls\n",
    "    1. once for the kernels, to get the number of dimensions of both the set of nulls and the set of kernel nulls.\n",
    "\n",
    "The `get_rank()` method computes the combiner's outputs (or kernel-outputs) for the whole set of inputs. These outputs constitute a family of outputs. The number of independent outputs is the number of independent vectors in this family."
   ]
  },
  {
   "cell_type": "code",
   "execution_count": 3,
   "metadata": {},
   "outputs": [
    {
     "name": "stdout",
     "output_type": "stream",
     "text": [
      "=====================================================\n",
      "Working on a 3 -input combiner\n",
      "Assuming nonredundant baselines\n",
      "Baselines 3.0\n",
      "Number of second order derivatives 3.0\n",
      "Number of nulls 2\n",
      "Independant nulls 2.0\n"
     ]
    },
    {
     "data": {
      "text/latex": [
       "$\\displaystyle N_{null, indep} = 2.0$"
      ],
      "text/plain": [
       "<IPython.core.display.Math object>"
      ]
     },
     "metadata": {},
     "output_type": "display_data"
    },
    {
     "name": "stdout",
     "output_type": "stream",
     "text": [
      "Robust observables 1.0\n"
     ]
    },
    {
     "data": {
      "text/latex": [
       "$\\displaystyle N_{kernels, indep} = 1.0$"
      ],
      "text/plain": [
       "<IPython.core.display.Math object>"
      ]
     },
     "metadata": {},
     "output_type": "display_data"
    },
    {
     "data": {
      "text/latex": [
       "$\\displaystyle a_{l, bright} = \\frac{1}{\\sqrt{n_{a}}}$"
      ],
      "text/plain": [
       "<IPython.core.display.Math object>"
      ]
     },
     "metadata": {},
     "output_type": "display_data"
    },
    {
     "data": {
      "text/latex": [
       "$\\displaystyle a_{l, full} = \\frac{\\sqrt{\\frac{n_{a} - 1}{\\left(n_{a} - 1\\right)!}}}{\\sqrt{n_{a}}}$"
      ],
      "text/plain": [
       "<IPython.core.display.Math object>"
      ]
     },
     "metadata": {},
     "output_type": "display_data"
    },
    {
     "data": {
      "text/latex": [
       "$\\displaystyle a_{l, full} = \\frac{\\sqrt{3}}{3}$"
      ],
      "text/plain": [
       "<IPython.core.display.Math object>"
      ]
     },
     "metadata": {},
     "output_type": "display_data"
    },
    {
     "name": "stdout",
     "output_type": "stream",
     "text": [
      "Assuming cropping for full signal of non-redundant array:\n"
     ]
    },
    {
     "data": {
      "text/latex": [
       "$\\displaystyle a_{l, cropped} = \\frac{\\sqrt{\\frac{1}{n_{a} - 2}}}{\\sqrt{n_{a}}}$"
      ],
      "text/plain": [
       "<IPython.core.display.Math object>"
      ]
     },
     "metadata": {},
     "output_type": "display_data"
    },
    {
     "data": {
      "text/latex": [
       "$\\displaystyle a_{l, cropped} = \\frac{\\sqrt{3}}{3}$"
      ],
      "text/plain": [
       "<IPython.core.display.Math object>"
      ]
     },
     "metadata": {},
     "output_type": "display_data"
    },
    {
     "data": {
      "text/latex": [
       "$\\displaystyle I_{peak} = \\frac{n_{a} \\left(n_{a} - 1\\right)}{n_{n}}$"
      ],
      "text/plain": [
       "<IPython.core.display.Math object>"
      ]
     },
     "metadata": {},
     "output_type": "display_data"
    },
    {
     "data": {
      "text/latex": [
       "$\\displaystyle I_{peak} = 3$"
      ],
      "text/plain": [
       "<IPython.core.display.Math object>"
      ]
     },
     "metadata": {},
     "output_type": "display_data"
    },
    {
     "name": "stdout",
     "output_type": "stream",
     "text": [
      "=====================================================\n",
      "Building a model from scratch\n",
      "Found a null rank of 2\n",
      "Found a kernel rank of 1\n",
      "=====================================================\n",
      "=====================================================\n",
      "Working on a 4 -input combiner\n",
      "Assuming nonredundant baselines\n",
      "Baselines 6.0\n",
      "Number of second order derivatives 6.0\n",
      "Number of nulls 6\n",
      "Independant nulls 6.0\n"
     ]
    },
    {
     "data": {
      "text/latex": [
       "$\\displaystyle N_{null, indep} = 6.0$"
      ],
      "text/plain": [
       "<IPython.core.display.Math object>"
      ]
     },
     "metadata": {},
     "output_type": "display_data"
    },
    {
     "name": "stdout",
     "output_type": "stream",
     "text": [
      "Robust observables 3.0\n"
     ]
    },
    {
     "data": {
      "text/latex": [
       "$\\displaystyle N_{kernels, indep} = 3.0$"
      ],
      "text/plain": [
       "<IPython.core.display.Math object>"
      ]
     },
     "metadata": {},
     "output_type": "display_data"
    },
    {
     "data": {
      "text/latex": [
       "$\\displaystyle a_{l, bright} = \\frac{1}{\\sqrt{n_{a}}}$"
      ],
      "text/plain": [
       "<IPython.core.display.Math object>"
      ]
     },
     "metadata": {},
     "output_type": "display_data"
    },
    {
     "data": {
      "text/latex": [
       "$\\displaystyle a_{l, full} = \\frac{\\sqrt{\\frac{n_{a} - 1}{\\left(n_{a} - 1\\right)!}}}{\\sqrt{n_{a}}}$"
      ],
      "text/plain": [
       "<IPython.core.display.Math object>"
      ]
     },
     "metadata": {},
     "output_type": "display_data"
    },
    {
     "data": {
      "text/latex": [
       "$\\displaystyle a_{l, full} = \\frac{\\sqrt{2}}{4}$"
      ],
      "text/plain": [
       "<IPython.core.display.Math object>"
      ]
     },
     "metadata": {},
     "output_type": "display_data"
    },
    {
     "name": "stdout",
     "output_type": "stream",
     "text": [
      "Assuming cropping for full signal of non-redundant array:\n"
     ]
    },
    {
     "data": {
      "text/latex": [
       "$\\displaystyle a_{l, cropped} = \\frac{\\sqrt{\\frac{1}{n_{a} - 2}}}{\\sqrt{n_{a}}}$"
      ],
      "text/plain": [
       "<IPython.core.display.Math object>"
      ]
     },
     "metadata": {},
     "output_type": "display_data"
    },
    {
     "data": {
      "text/latex": [
       "$\\displaystyle a_{l, cropped} = \\frac{\\sqrt{2}}{4}$"
      ],
      "text/plain": [
       "<IPython.core.display.Math object>"
      ]
     },
     "metadata": {},
     "output_type": "display_data"
    },
    {
     "data": {
      "text/latex": [
       "$\\displaystyle I_{peak} = \\frac{n_{a} \\left(n_{a} - 1\\right)}{n_{n}}$"
      ],
      "text/plain": [
       "<IPython.core.display.Math object>"
      ]
     },
     "metadata": {},
     "output_type": "display_data"
    },
    {
     "data": {
      "text/latex": [
       "$\\displaystyle I_{peak} = 2$"
      ],
      "text/plain": [
       "<IPython.core.display.Math object>"
      ]
     },
     "metadata": {},
     "output_type": "display_data"
    },
    {
     "name": "stdout",
     "output_type": "stream",
     "text": [
      "=====================================================\n",
      "Building a model from scratch\n",
      "Found a null rank of 6\n",
      "Found a kernel rank of 3\n",
      "=====================================================\n",
      "=====================================================\n",
      "Working on a 5 -input combiner\n",
      "Assuming nonredundant baselines\n",
      "Baselines 10.0\n",
      "Number of second order derivatives 10.0\n",
      "Number of nulls 24\n",
      "Independant nulls 12.0\n"
     ]
    },
    {
     "data": {
      "text/latex": [
       "$\\displaystyle N_{null, indep} = 12.0$"
      ],
      "text/plain": [
       "<IPython.core.display.Math object>"
      ]
     },
     "metadata": {},
     "output_type": "display_data"
    },
    {
     "name": "stdout",
     "output_type": "stream",
     "text": [
      "Robust observables 6.0\n"
     ]
    },
    {
     "data": {
      "text/latex": [
       "$\\displaystyle N_{kernels, indep} = 6.0$"
      ],
      "text/plain": [
       "<IPython.core.display.Math object>"
      ]
     },
     "metadata": {},
     "output_type": "display_data"
    },
    {
     "data": {
      "text/latex": [
       "$\\displaystyle a_{l, bright} = \\frac{1}{\\sqrt{n_{a}}}$"
      ],
      "text/plain": [
       "<IPython.core.display.Math object>"
      ]
     },
     "metadata": {},
     "output_type": "display_data"
    },
    {
     "data": {
      "text/latex": [
       "$\\displaystyle a_{l, full} = \\frac{\\sqrt{\\frac{n_{a} - 1}{\\left(n_{a} - 1\\right)!}}}{\\sqrt{n_{a}}}$"
      ],
      "text/plain": [
       "<IPython.core.display.Math object>"
      ]
     },
     "metadata": {},
     "output_type": "display_data"
    },
    {
     "data": {
      "text/latex": [
       "$\\displaystyle a_{l, full} = \\frac{\\sqrt{30}}{30}$"
      ],
      "text/plain": [
       "<IPython.core.display.Math object>"
      ]
     },
     "metadata": {},
     "output_type": "display_data"
    },
    {
     "name": "stdout",
     "output_type": "stream",
     "text": [
      "Assuming cropping for full signal of non-redundant array:\n"
     ]
    },
    {
     "data": {
      "text/latex": [
       "$\\displaystyle a_{l, cropped} = \\frac{\\sqrt{\\frac{1}{n_{a} - 2}}}{\\sqrt{n_{a}}}$"
      ],
      "text/plain": [
       "<IPython.core.display.Math object>"
      ]
     },
     "metadata": {},
     "output_type": "display_data"
    },
    {
     "data": {
      "text/latex": [
       "$\\displaystyle a_{l, cropped} = \\frac{\\sqrt{15}}{15}$"
      ],
      "text/plain": [
       "<IPython.core.display.Math object>"
      ]
     },
     "metadata": {},
     "output_type": "display_data"
    },
    {
     "data": {
      "text/latex": [
       "$\\displaystyle I_{peak} = \\frac{n_{a} \\left(n_{a} - 1\\right)}{n_{n}}$"
      ],
      "text/plain": [
       "<IPython.core.display.Math object>"
      ]
     },
     "metadata": {},
     "output_type": "display_data"
    },
    {
     "data": {
      "text/latex": [
       "$\\displaystyle I_{peak} = \\frac{5}{3}$"
      ],
      "text/plain": [
       "<IPython.core.display.Math object>"
      ]
     },
     "metadata": {},
     "output_type": "display_data"
    },
    {
     "name": "stdout",
     "output_type": "stream",
     "text": [
      "=====================================================\n",
      "Building a model from scratch\n",
      "Found a null rank of 12\n",
      "Found a kernel rank of 6\n",
      "=====================================================\n",
      "=====================================================\n",
      "Working on a 6 -input combiner\n",
      "Assuming nonredundant baselines\n",
      "Baselines 15.0\n",
      "Number of second order derivatives 15.0\n",
      "Number of nulls 120\n",
      "Independant nulls 20.0\n"
     ]
    },
    {
     "data": {
      "text/latex": [
       "$\\displaystyle N_{null, indep} = 20.0$"
      ],
      "text/plain": [
       "<IPython.core.display.Math object>"
      ]
     },
     "metadata": {},
     "output_type": "display_data"
    },
    {
     "name": "stdout",
     "output_type": "stream",
     "text": [
      "Robust observables 10.0\n"
     ]
    },
    {
     "data": {
      "text/latex": [
       "$\\displaystyle N_{kernels, indep} = 10.0$"
      ],
      "text/plain": [
       "<IPython.core.display.Math object>"
      ]
     },
     "metadata": {},
     "output_type": "display_data"
    },
    {
     "data": {
      "text/latex": [
       "$\\displaystyle a_{l, bright} = \\frac{1}{\\sqrt{n_{a}}}$"
      ],
      "text/plain": [
       "<IPython.core.display.Math object>"
      ]
     },
     "metadata": {},
     "output_type": "display_data"
    },
    {
     "data": {
      "text/latex": [
       "$\\displaystyle a_{l, full} = \\frac{\\sqrt{\\frac{n_{a} - 1}{\\left(n_{a} - 1\\right)!}}}{\\sqrt{n_{a}}}$"
      ],
      "text/plain": [
       "<IPython.core.display.Math object>"
      ]
     },
     "metadata": {},
     "output_type": "display_data"
    },
    {
     "data": {
      "text/latex": [
       "$\\displaystyle a_{l, full} = \\frac{1}{12}$"
      ],
      "text/plain": [
       "<IPython.core.display.Math object>"
      ]
     },
     "metadata": {},
     "output_type": "display_data"
    },
    {
     "name": "stdout",
     "output_type": "stream",
     "text": [
      "Assuming cropping for full signal of non-redundant array:\n"
     ]
    },
    {
     "data": {
      "text/latex": [
       "$\\displaystyle a_{l, cropped} = \\frac{\\sqrt{\\frac{1}{n_{a} - 2}}}{\\sqrt{n_{a}}}$"
      ],
      "text/plain": [
       "<IPython.core.display.Math object>"
      ]
     },
     "metadata": {},
     "output_type": "display_data"
    },
    {
     "data": {
      "text/latex": [
       "$\\displaystyle a_{l, cropped} = \\frac{\\sqrt{6}}{12}$"
      ],
      "text/plain": [
       "<IPython.core.display.Math object>"
      ]
     },
     "metadata": {},
     "output_type": "display_data"
    },
    {
     "data": {
      "text/latex": [
       "$\\displaystyle I_{peak} = \\frac{n_{a} \\left(n_{a} - 1\\right)}{n_{n}}$"
      ],
      "text/plain": [
       "<IPython.core.display.Math object>"
      ]
     },
     "metadata": {},
     "output_type": "display_data"
    },
    {
     "data": {
      "text/latex": [
       "$\\displaystyle I_{peak} = \\frac{3}{2}$"
      ],
      "text/plain": [
       "<IPython.core.display.Math object>"
      ]
     },
     "metadata": {},
     "output_type": "display_data"
    },
    {
     "name": "stdout",
     "output_type": "stream",
     "text": [
      "=====================================================\n",
      "Building a model from scratch\n",
      "Found a null rank of 20\n",
      "Found a kernel rank of 10\n",
      "=====================================================\n",
      "=====================================================\n",
      "Working on a 7 -input combiner\n",
      "Assuming nonredundant baselines\n",
      "Baselines 21.0\n",
      "Number of second order derivatives 21.0\n",
      "Number of nulls 720\n",
      "Independant nulls 30.0\n"
     ]
    },
    {
     "data": {
      "text/latex": [
       "$\\displaystyle N_{null, indep} = 30.0$"
      ],
      "text/plain": [
       "<IPython.core.display.Math object>"
      ]
     },
     "metadata": {},
     "output_type": "display_data"
    },
    {
     "name": "stdout",
     "output_type": "stream",
     "text": [
      "Robust observables 15.0\n"
     ]
    },
    {
     "data": {
      "text/latex": [
       "$\\displaystyle N_{kernels, indep} = 15.0$"
      ],
      "text/plain": [
       "<IPython.core.display.Math object>"
      ]
     },
     "metadata": {},
     "output_type": "display_data"
    },
    {
     "data": {
      "text/latex": [
       "$\\displaystyle a_{l, bright} = \\frac{1}{\\sqrt{n_{a}}}$"
      ],
      "text/plain": [
       "<IPython.core.display.Math object>"
      ]
     },
     "metadata": {},
     "output_type": "display_data"
    },
    {
     "data": {
      "text/latex": [
       "$\\displaystyle a_{l, full} = \\frac{\\sqrt{\\frac{n_{a} - 1}{\\left(n_{a} - 1\\right)!}}}{\\sqrt{n_{a}}}$"
      ],
      "text/plain": [
       "<IPython.core.display.Math object>"
      ]
     },
     "metadata": {},
     "output_type": "display_data"
    },
    {
     "data": {
      "text/latex": [
       "$\\displaystyle a_{l, full} = \\frac{\\sqrt{210}}{420}$"
      ],
      "text/plain": [
       "<IPython.core.display.Math object>"
      ]
     },
     "metadata": {},
     "output_type": "display_data"
    },
    {
     "name": "stdout",
     "output_type": "stream",
     "text": [
      "Assuming cropping for full signal of non-redundant array:\n"
     ]
    },
    {
     "data": {
      "text/latex": [
       "$\\displaystyle a_{l, cropped} = \\frac{\\sqrt{\\frac{1}{n_{a} - 2}}}{\\sqrt{n_{a}}}$"
      ],
      "text/plain": [
       "<IPython.core.display.Math object>"
      ]
     },
     "metadata": {},
     "output_type": "display_data"
    },
    {
     "data": {
      "text/latex": [
       "$\\displaystyle a_{l, cropped} = \\frac{\\sqrt{35}}{35}$"
      ],
      "text/plain": [
       "<IPython.core.display.Math object>"
      ]
     },
     "metadata": {},
     "output_type": "display_data"
    },
    {
     "data": {
      "text/latex": [
       "$\\displaystyle I_{peak} = \\frac{n_{a} \\left(n_{a} - 1\\right)}{n_{n}}$"
      ],
      "text/plain": [
       "<IPython.core.display.Math object>"
      ]
     },
     "metadata": {},
     "output_type": "display_data"
    },
    {
     "data": {
      "text/latex": [
       "$\\displaystyle I_{peak} = \\frac{7}{5}$"
      ],
      "text/plain": [
       "<IPython.core.display.Math object>"
      ]
     },
     "metadata": {},
     "output_type": "display_data"
    },
    {
     "name": "stdout",
     "output_type": "stream",
     "text": [
      "=====================================================\n",
      "Building a model from scratch\n",
      "Found a null rank of 30\n",
      "Found a kernel rank of 15\n",
      "=====================================================\n"
     ]
    }
   ],
   "source": [
    "CHARA2 = np.vstack((kernuller.CHARA, np.array([30.,30.])))\n",
    "nas = np.arange(3,8)\n",
    "nullranks = []\n",
    "kernranks = []\n",
    "sizes = []\n",
    "for i in nas:\n",
    "    print(\"=====================================================\")\n",
    "    print(\"Working on a %d -input combiner\"%(i))\n",
    "    kernuller.expected_numbers(i)\n",
    "    print(\"=====================================================\")\n",
    "    mykernuller = kernuller.kernuller(CHARA2[:i], 3.6e-6)\n",
    "    mykernuller.build_procedural_model(verbose=False)\n",
    "    sizes.append(mykernuller.Np.shape[0])\n",
    "    anullrank = mykernuller.get_rank(params=params, mode=\"\")\n",
    "    nullranks.append(anullrank)\n",
    "    akernelrank = mykernuller.get_rank(params=params, mode=\"kernels\")\n",
    "    kernranks.append(akernelrank)\n",
    "    print(\"Found a null rank of %d\"%(anullrank))\n",
    "    print(\"Found a kernel rank of %d\"%(akernelrank))\n",
    "    print(\"=====================================================\")\n",
    "sizes = np.array(sizes)\n",
    "nullranks = np.array(nullranks)\n",
    "kernranks = np.array(kernranks)"
   ]
  },
  {
   "cell_type": "markdown",
   "metadata": {},
   "source": [
    "## Now let's make a pretty plot of our results..."
   ]
  },
  {
   "cell_type": "code",
   "execution_count": 4,
   "metadata": {},
   "outputs": [
    {
     "name": "stdout",
     "output_type": "stream",
     "text": [
      "6 120\n",
      "7 720\n"
     ]
    },
    {
     "data": {
      "image/png": "[encoded data removed]",
      "text/plain": [
       "<Figure size 540x396 with 1 Axes>"
      ]
     },
     "metadata": {
      "needs_background": "light"
     },
     "output_type": "display_data"
    }
   ],
   "source": [
    "thnas = np.arange(3,18)\n",
    "fig = plt.figure(figsize=(7.5, 5.5))\n",
    "plt.plot(nas[:-2], sizes[:-2],marker=\"X\",\n",
    "         linestyle=\"None\",markersize=14, label=\"Number of nulls\")\n",
    "\n",
    "plt.plot(thnas, (thnas-1)*(thnas-2), \"k--\", label=\"Expected numbers\")\n",
    "plt.plot(nas, nullranks,marker=\"P\",\n",
    "         linestyle=\"None\",markersize=10, label=\"Number of independent nulls\")\n",
    "plt.plot(thnas, 1/2*(thnas-1)*(thnas-2), \"k--\")\n",
    "plt.plot(nas, kernranks,marker=\"o\",\n",
    "         linestyle=\"None\",markersize=10, label=\"Number of independent kernel nulls\")\n",
    "#plt.plot(9, 8, color=\"C1\", marker=\"s\", label=\"9 apertures cascaded nulls\")\n",
    "#plt.plot(9, 4, color=\"C2\", marker=\"s\", label=\"9 apertures cascaded kernel nulls\")\n",
    "extranas = nas[-2:]\n",
    "extrasizes = sizes[-2:]\n",
    "plt.plot(extranas, 70*np.ones_like(extranas), marker=\"X\",color=\"C0\",\n",
    "         markersize=12, linestyle=\"None\")\n",
    "for anextranas, anextrasize  in zip(extranas, extrasizes):\n",
    "    print(anextranas,anextrasize)\n",
    "    plt.arrow(anextranas, 70, 0, 5, head_width=0.2, head_length=5, color=\"C0\")\n",
    "    plt.text(anextranas, 70+2, str(anextrasize),color=\"C0\")\n",
    "plt.legend(loc=\"lower right\")\n",
    "plt.ylim(0, 80)\n",
    "plt.xlim(2, 14)\n",
    "plt.xticks(ticks=np.arange(2,15))\n",
    "plt.xlabel(r\"Number of inputs $n_a$\")\n",
    "plt.grid()\n",
    "#plt.title(\"Growth of kernel nullers\")\n",
    "plt.show()"
   ]
  },
  {
   "cell_type": "markdown",
   "metadata": {},
   "source": [
    "# Building reduced combiners\n",
    "## What it is about\n",
    "Now the possibility to reduce the combiners to those numbers is an entirely different matter. The delicate part is to make sure that the matrix we build ( by adding or removing rows ) remains the matrix of a lossless combiner.\n",
    "\n",
    "The matrices of lossless combiners are semi-unitary to the left, meaning that that their conjugate-transpose is their left-inverse:\n",
    "$$\\mathbf{M}^H\\mathbf{M} = \\mathbf{I}.$$\n",
    "This also means (equivalent) that all their singular values are ones.\n",
    "\n",
    "\n",
    "The way we have used is implemented in the algorithm offerred in `generative_random_pruning()`.\n",
    "\n",
    "The algorithm will try random ways to build a matrix, recording the steps it took (the recipe), and saving this recipe if the result is both lossless and complete (gives full rank *kernels*).\n",
    "\n"
   ]
  },
  {
   "cell_type": "code",
   "execution_count": 30,
   "metadata": {},
   "outputs": [
    {
     "name": "stdout",
     "output_type": "stream",
     "text": [
      "Building a model from scratch\n"
     ]
    }
   ],
   "source": [
    "statlocs = kernuller.CHARA\n",
    "mykernuller = kernuller.kernuller(statlocs,3.6e-6)\n",
    "mykernuller.build_procedural_model(verbose=False)"
   ]
  },
  {
   "cell_type": "markdown",
   "metadata": {},
   "source": [
    "## One of the problems with this approach that inside the function, there is no good way to stop the search yet keep the recipes found...\n",
    "For the 6T combination, you have to run it for around 2000 iterations if you want to be relatively sure to find something (10-15 minutes on a decent workstation)."
   ]
  },
  {
   "cell_type": "code",
   "execution_count": 31,
   "metadata": {},
   "outputs": [
    {
     "name": "stderr",
     "output_type": "stream",
     "text": [
      " 11%|█▏        | 228/2000 [01:12<10:09,  2.91it/s]"
     ]
    },
    {
     "name": "stdout",
     "output_type": "stream",
     "text": [
      "FOUND ONE!!!\n",
      "[85 33 13 82 23 33 91 31 49 28 75 48 68 18 86 67 53  9 35 79  5  3 10 73\n",
      " 11 24 17 26  2 52 55 14 41  6 33  0 25  7 29 18 24  7  6 27 31 29  8  9]\n"
     ]
    },
    {
     "name": "stderr",
     "output_type": "stream",
     "text": [
      " 61%|██████▏   | 1228/2000 [06:35<04:01,  3.20it/s]"
     ]
    },
    {
     "name": "stdout",
     "output_type": "stream",
     "text": [
      "FOUND ONE!!!\n",
      "[ 41  85  46  33 106  29  49  37  75  91  52  40  37  24  67  11  82  61\n",
      "  49   1  34  68  68   6  60  10  54  13  41  61  45  49  41   9]\n"
     ]
    },
    {
     "name": "stderr",
     "output_type": "stream",
     "text": [
      " 73%|███████▎  | 1451/2000 [07:47<03:01,  3.03it/s]"
     ]
    },
    {
     "name": "stdout",
     "output_type": "stream",
     "text": [
      "FOUND ONE!!!\n",
      "[83 15 93 84 73 29 39  3 11 44 11 24  7 37 60 43 14 56 82 52 67 45 61 28\n",
      " 29 67 28  2 57 25 12 57 40 52 34  4 31 31 12  9 29 20  9 33 12]\n"
     ]
    },
    {
     "name": "stderr",
     "output_type": "stream",
     "text": [
      "100%|██████████| 2000/2000 [10:45<00:00,  3.18it/s]\n"
     ]
    }
   ],
   "source": [
    "matrices, recipes = kernuller.generative_random_pruning(mykernuller.Ms, 2000)"
   ]
  },
  {
   "cell_type": "code",
   "execution_count": 19,
   "metadata": {},
   "outputs": [
    {
     "name": "stdout",
     "output_type": "stream",
     "text": [
      "We found 3 matrices, here is one:\n"
     ]
    },
    {
     "data": {
      "text/latex": [
       "$\\displaystyle \\left[\\begin{matrix}\\frac{\\sqrt{6}}{6} & \\frac{\\sqrt{6}}{6} & \\frac{\\sqrt{6}}{6} & \\frac{\\sqrt{6}}{6} & \\frac{\\sqrt{6}}{6} & \\frac{\\sqrt{6}}{6}\\\\\\frac{\\sqrt{6}}{12} & - \\frac{\\sqrt{6}}{12} & \\frac{\\sqrt{6} e^{\\frac{2 i \\pi}{3}}}{12} & \\frac{\\sqrt{6} e^{- \\frac{2 i \\pi}{3}}}{12} & \\frac{\\sqrt{6} e^{- \\frac{i \\pi}{3}}}{12} & \\frac{\\sqrt{6} e^{\\frac{i \\pi}{3}}}{12}\\\\\\frac{\\sqrt{6}}{12} & - \\frac{\\sqrt{6}}{12} & \\frac{\\sqrt{6} e^{- \\frac{2 i \\pi}{3}}}{12} & \\frac{\\sqrt{6} e^{\\frac{2 i \\pi}{3}}}{12} & \\frac{\\sqrt{6} e^{\\frac{i \\pi}{3}}}{12} & \\frac{\\sqrt{6} e^{- \\frac{i \\pi}{3}}}{12}\\\\\\frac{\\sqrt{6}}{12} & \\frac{\\sqrt{6} e^{- \\frac{i \\pi}{3}}}{12} & - \\frac{\\sqrt{6}}{12} & \\frac{\\sqrt{6} e^{\\frac{i \\pi}{3}}}{12} & \\frac{\\sqrt{6} e^{\\frac{2 i \\pi}{3}}}{12} & \\frac{\\sqrt{6} e^{- \\frac{2 i \\pi}{3}}}{12}\\\\\\frac{\\sqrt{6}}{12} & \\frac{\\sqrt{6} e^{\\frac{i \\pi}{3}}}{12} & - \\frac{\\sqrt{6}}{12} & \\frac{\\sqrt{6} e^{- \\frac{i \\pi}{3}}}{12} & \\frac{\\sqrt{6} e^{- \\frac{2 i \\pi}{3}}}{12} & \\frac{\\sqrt{6} e^{\\frac{2 i \\pi}{3}}}{12}\\\\\\frac{\\sqrt{6}}{12} & \\frac{\\sqrt{6} e^{- \\frac{i \\pi}{3}}}{12} & - \\frac{\\sqrt{6}}{12} & \\frac{\\sqrt{6} e^{\\frac{2 i \\pi}{3}}}{12} & \\frac{\\sqrt{6} e^{- \\frac{2 i \\pi}{3}}}{12} & \\frac{\\sqrt{6} e^{\\frac{i \\pi}{3}}}{12}\\\\\\frac{\\sqrt{6}}{12} & \\frac{\\sqrt{6} e^{\\frac{i \\pi}{3}}}{12} & - \\frac{\\sqrt{6}}{12} & \\frac{\\sqrt{6} e^{- \\frac{2 i \\pi}{3}}}{12} & \\frac{\\sqrt{6} e^{\\frac{2 i \\pi}{3}}}{12} & \\frac{\\sqrt{6} e^{- \\frac{i \\pi}{3}}}{12}\\\\\\frac{\\sqrt{6}}{12} & \\frac{\\sqrt{6} e^{\\frac{2 i \\pi}{3}}}{12} & \\frac{\\sqrt{6} e^{- \\frac{2 i \\pi}{3}}}{12} & \\frac{\\sqrt{6} e^{- \\frac{i \\pi}{3}}}{12} & - \\frac{\\sqrt{6}}{12} & \\frac{\\sqrt{6} e^{\\frac{i \\pi}{3}}}{12}\\\\\\frac{\\sqrt{6}}{12} & \\frac{\\sqrt{6} e^{- \\frac{2 i \\pi}{3}}}{12} & \\frac{\\sqrt{6} e^{\\frac{2 i \\pi}{3}}}{12} & \\frac{\\sqrt{6} e^{\\frac{i \\pi}{3}}}{12} & - \\frac{\\sqrt{6}}{12} & \\frac{\\sqrt{6} e^{- \\frac{i \\pi}{3}}}{12}\\\\\\frac{\\sqrt{6}}{12} & \\frac{\\sqrt{6} e^{\\frac{i \\pi}{3}}}{12} & \\frac{\\sqrt{6} e^{\\frac{2 i \\pi}{3}}}{12} & - \\frac{\\sqrt{6}}{12} & \\frac{\\sqrt{6} e^{- \\frac{i \\pi}{3}}}{12} & \\frac{\\sqrt{6} e^{- \\frac{2 i \\pi}{3}}}{12}\\\\\\frac{\\sqrt{6}}{12} & \\frac{\\sqrt{6} e^{- \\frac{i \\pi}{3}}}{12} & \\frac{\\sqrt{6} e^{- \\frac{2 i \\pi}{3}}}{12} & - \\frac{\\sqrt{6}}{12} & \\frac{\\sqrt{6} e^{\\frac{i \\pi}{3}}}{12} & \\frac{\\sqrt{6} e^{\\frac{2 i \\pi}{3}}}{12}\\\\\\frac{\\sqrt{6}}{12} & \\frac{\\sqrt{6} e^{\\frac{i \\pi}{3}}}{12} & \\frac{\\sqrt{6} e^{- \\frac{i \\pi}{3}}}{12} & \\frac{\\sqrt{6} e^{\\frac{2 i \\pi}{3}}}{12} & - \\frac{\\sqrt{6}}{12} & \\frac{\\sqrt{6} e^{- \\frac{2 i \\pi}{3}}}{12}\\\\\\frac{\\sqrt{6}}{12} & \\frac{\\sqrt{6} e^{- \\frac{i \\pi}{3}}}{12} & \\frac{\\sqrt{6} e^{\\frac{i \\pi}{3}}}{12} & \\frac{\\sqrt{6} e^{- \\frac{2 i \\pi}{3}}}{12} & - \\frac{\\sqrt{6}}{12} & \\frac{\\sqrt{6} e^{\\frac{2 i \\pi}{3}}}{12}\\\\\\frac{\\sqrt{6}}{12} & \\frac{\\sqrt{6} e^{- \\frac{2 i \\pi}{3}}}{12} & \\frac{\\sqrt{6} e^{- \\frac{i \\pi}{3}}}{12} & \\frac{\\sqrt{6} e^{\\frac{2 i \\pi}{3}}}{12} & \\frac{\\sqrt{6} e^{\\frac{i \\pi}{3}}}{12} & - \\frac{\\sqrt{6}}{12}\\\\\\frac{\\sqrt{6}}{12} & \\frac{\\sqrt{6} e^{\\frac{2 i \\pi}{3}}}{12} & \\frac{\\sqrt{6} e^{\\frac{i \\pi}{3}}}{12} & \\frac{\\sqrt{6} e^{- \\frac{2 i \\pi}{3}}}{12} & \\frac{\\sqrt{6} e^{- \\frac{i \\pi}{3}}}{12} & - \\frac{\\sqrt{6}}{12}\\\\\\frac{\\sqrt{6}}{12} & \\frac{\\sqrt{6} e^{- \\frac{2 i \\pi}{3}}}{12} & \\frac{\\sqrt{6} e^{\\frac{i \\pi}{3}}}{12} & - \\frac{\\sqrt{6}}{12} & \\frac{\\sqrt{6} e^{- \\frac{i \\pi}{3}}}{12} & \\frac{\\sqrt{6} e^{\\frac{2 i \\pi}{3}}}{12}\\\\\\frac{\\sqrt{6}}{12} & \\frac{\\sqrt{6} e^{\\frac{2 i \\pi}{3}}}{12} & \\frac{\\sqrt{6} e^{- \\frac{i \\pi}{3}}}{12} & - \\frac{\\sqrt{6}}{12} & \\frac{\\sqrt{6} e^{\\frac{i \\pi}{3}}}{12} & \\frac{\\sqrt{6} e^{- \\frac{2 i \\pi}{3}}}{12}\\\\\\frac{\\sqrt{6}}{12} & \\frac{\\sqrt{6} e^{\\frac{2 i \\pi}{3}}}{12} & \\frac{\\sqrt{6} e^{- \\frac{i \\pi}{3}}}{12} & \\frac{\\sqrt{6} e^{\\frac{i \\pi}{3}}}{12} & \\frac{\\sqrt{6} e^{- \\frac{2 i \\pi}{3}}}{12} & - \\frac{\\sqrt{6}}{12}\\\\\\frac{\\sqrt{6}}{12} & \\frac{\\sqrt{6} e^{- \\frac{2 i \\pi}{3}}}{12} & \\frac{\\sqrt{6} e^{\\frac{i \\pi}{3}}}{12} & \\frac{\\sqrt{6} e^{- \\frac{i \\pi}{3}}}{12} & \\frac{\\sqrt{6} e^{\\frac{2 i \\pi}{3}}}{12} & - \\frac{\\sqrt{6}}{12}\\\\\\frac{\\sqrt{6}}{12} & - \\frac{\\sqrt{6}}{12} & \\frac{\\sqrt{6} e^{\\frac{2 i \\pi}{3}}}{12} & \\frac{\\sqrt{6} e^{\\frac{i \\pi}{3}}}{12} & \\frac{\\sqrt{6} e^{- \\frac{2 i \\pi}{3}}}{12} & \\frac{\\sqrt{6} e^{- \\frac{i \\pi}{3}}}{12}\\\\\\frac{\\sqrt{6}}{12} & - \\frac{\\sqrt{6}}{12} & \\frac{\\sqrt{6} e^{- \\frac{2 i \\pi}{3}}}{12} & \\frac{\\sqrt{6} e^{- \\frac{i \\pi}{3}}}{12} & \\frac{\\sqrt{6} e^{\\frac{2 i \\pi}{3}}}{12} & \\frac{\\sqrt{6} e^{\\frac{i \\pi}{3}}}{12}\\end{matrix}\\right]$"
      ],
      "text/plain": [
       "Matrix([\n",
       "[ sqrt(6)/6,                 sqrt(6)/6,                 sqrt(6)/6,                 sqrt(6)/6,                 sqrt(6)/6,                 sqrt(6)/6],\n",
       "[sqrt(6)/12,               -sqrt(6)/12,  sqrt(6)*exp(2*I*pi/3)/12, sqrt(6)*exp(-2*I*pi/3)/12,   sqrt(6)*exp(-I*pi/3)/12,    sqrt(6)*exp(I*pi/3)/12],\n",
       "[sqrt(6)/12,               -sqrt(6)/12, sqrt(6)*exp(-2*I*pi/3)/12,  sqrt(6)*exp(2*I*pi/3)/12,    sqrt(6)*exp(I*pi/3)/12,   sqrt(6)*exp(-I*pi/3)/12],\n",
       "[sqrt(6)/12,   sqrt(6)*exp(-I*pi/3)/12,               -sqrt(6)/12,    sqrt(6)*exp(I*pi/3)/12,  sqrt(6)*exp(2*I*pi/3)/12, sqrt(6)*exp(-2*I*pi/3)/12],\n",
       "[sqrt(6)/12,    sqrt(6)*exp(I*pi/3)/12,               -sqrt(6)/12,   sqrt(6)*exp(-I*pi/3)/12, sqrt(6)*exp(-2*I*pi/3)/12,  sqrt(6)*exp(2*I*pi/3)/12],\n",
       "[sqrt(6)/12,   sqrt(6)*exp(-I*pi/3)/12,               -sqrt(6)/12,  sqrt(6)*exp(2*I*pi/3)/12, sqrt(6)*exp(-2*I*pi/3)/12,    sqrt(6)*exp(I*pi/3)/12],\n",
       "[sqrt(6)/12,    sqrt(6)*exp(I*pi/3)/12,               -sqrt(6)/12, sqrt(6)*exp(-2*I*pi/3)/12,  sqrt(6)*exp(2*I*pi/3)/12,   sqrt(6)*exp(-I*pi/3)/12],\n",
       "[sqrt(6)/12,  sqrt(6)*exp(2*I*pi/3)/12, sqrt(6)*exp(-2*I*pi/3)/12,   sqrt(6)*exp(-I*pi/3)/12,               -sqrt(6)/12,    sqrt(6)*exp(I*pi/3)/12],\n",
       "[sqrt(6)/12, sqrt(6)*exp(-2*I*pi/3)/12,  sqrt(6)*exp(2*I*pi/3)/12,    sqrt(6)*exp(I*pi/3)/12,               -sqrt(6)/12,   sqrt(6)*exp(-I*pi/3)/12],\n",
       "[sqrt(6)/12,    sqrt(6)*exp(I*pi/3)/12,  sqrt(6)*exp(2*I*pi/3)/12,               -sqrt(6)/12,   sqrt(6)*exp(-I*pi/3)/12, sqrt(6)*exp(-2*I*pi/3)/12],\n",
       "[sqrt(6)/12,   sqrt(6)*exp(-I*pi/3)/12, sqrt(6)*exp(-2*I*pi/3)/12,               -sqrt(6)/12,    sqrt(6)*exp(I*pi/3)/12,  sqrt(6)*exp(2*I*pi/3)/12],\n",
       "[sqrt(6)/12,    sqrt(6)*exp(I*pi/3)/12,   sqrt(6)*exp(-I*pi/3)/12,  sqrt(6)*exp(2*I*pi/3)/12,               -sqrt(6)/12, sqrt(6)*exp(-2*I*pi/3)/12],\n",
       "[sqrt(6)/12,   sqrt(6)*exp(-I*pi/3)/12,    sqrt(6)*exp(I*pi/3)/12, sqrt(6)*exp(-2*I*pi/3)/12,               -sqrt(6)/12,  sqrt(6)*exp(2*I*pi/3)/12],\n",
       "[sqrt(6)/12, sqrt(6)*exp(-2*I*pi/3)/12,   sqrt(6)*exp(-I*pi/3)/12,  sqrt(6)*exp(2*I*pi/3)/12,    sqrt(6)*exp(I*pi/3)/12,               -sqrt(6)/12],\n",
       "[sqrt(6)/12,  sqrt(6)*exp(2*I*pi/3)/12,    sqrt(6)*exp(I*pi/3)/12, sqrt(6)*exp(-2*I*pi/3)/12,   sqrt(6)*exp(-I*pi/3)/12,               -sqrt(6)/12],\n",
       "[sqrt(6)/12, sqrt(6)*exp(-2*I*pi/3)/12,    sqrt(6)*exp(I*pi/3)/12,               -sqrt(6)/12,   sqrt(6)*exp(-I*pi/3)/12,  sqrt(6)*exp(2*I*pi/3)/12],\n",
       "[sqrt(6)/12,  sqrt(6)*exp(2*I*pi/3)/12,   sqrt(6)*exp(-I*pi/3)/12,               -sqrt(6)/12,    sqrt(6)*exp(I*pi/3)/12, sqrt(6)*exp(-2*I*pi/3)/12],\n",
       "[sqrt(6)/12,  sqrt(6)*exp(2*I*pi/3)/12,   sqrt(6)*exp(-I*pi/3)/12,    sqrt(6)*exp(I*pi/3)/12, sqrt(6)*exp(-2*I*pi/3)/12,               -sqrt(6)/12],\n",
       "[sqrt(6)/12, sqrt(6)*exp(-2*I*pi/3)/12,    sqrt(6)*exp(I*pi/3)/12,   sqrt(6)*exp(-I*pi/3)/12,  sqrt(6)*exp(2*I*pi/3)/12,               -sqrt(6)/12],\n",
       "[sqrt(6)/12,               -sqrt(6)/12,  sqrt(6)*exp(2*I*pi/3)/12,    sqrt(6)*exp(I*pi/3)/12, sqrt(6)*exp(-2*I*pi/3)/12,   sqrt(6)*exp(-I*pi/3)/12],\n",
       "[sqrt(6)/12,               -sqrt(6)/12, sqrt(6)*exp(-2*I*pi/3)/12,   sqrt(6)*exp(-I*pi/3)/12,  sqrt(6)*exp(2*I*pi/3)/12,    sqrt(6)*exp(I*pi/3)/12]])"
      ]
     },
     "execution_count": 19,
     "metadata": {},
     "output_type": "execute_result"
    }
   ],
   "source": [
    "print(\"We found %d matrices, here is one:\"%(len(matrices)))\n",
    "kernuller.fprint(matrices[0], r\"\\mathbf{M}_{0} = \")"
   ]
  },
  {
   "cell_type": "markdown",
   "metadata": {},
   "source": [
    "The best way to store those matrices is by using `np.save()`. However, numpy will pickle it, so when loading them, you have to make sure to allow pickle: `np.load(\"my/matrix.npy\", allow_pickle=True)`\n",
    "\n",
    "The legacy way to store the matrices is to store the recipe (which looks like that):"
   ]
  },
  {
   "cell_type": "code",
   "execution_count": 20,
   "metadata": {},
   "outputs": [
    {
     "data": {
      "text/plain": [
       "array([ 57, 106, 107,  39,  79,   1,  77,  75,  27,  95,  14,  89,  20,\n",
       "        73,   6,  59,  27,  73,  78,  68,  63,  24,  53,  56,  70,   3,\n",
       "         3,  53,  27])"
      ]
     },
     "execution_count": 20,
     "metadata": {},
     "output_type": "execute_result"
    }
   ],
   "source": [
    "recipes[0]"
   ]
  },
  {
   "cell_type": "markdown",
   "metadata": {},
   "source": [
    "The matrix can then be recovered by sending the recipe to to a method that follows the same steps but in a deterministic manner following the recipe.\n",
    "\n",
    "For this reason, it is super important that generative_random_pruning() and generative_from_recipe() remain in sync. When changing one, the other must be changed."
   ]
  },
  {
   "cell_type": "code",
   "execution_count": 26,
   "metadata": {},
   "outputs": [
    {
     "ename": "NameError",
     "evalue": "name 'recipes' is not defined",
     "output_type": "error",
     "traceback": [
      "\u001b[0;31m---------------------------------------------------------------------------\u001b[0m",
      "\u001b[0;31mNameError\u001b[0m                                 Traceback (most recent call last)",
      "\u001b[0;32m<ipython-input-26-ecd2210a1c40>\u001b[0m in \u001b[0;36m<module>\u001b[0;34m\u001b[0m\n\u001b[0;32m----> 1\u001b[0;31m \u001b[0mkernuller\u001b[0m\u001b[0;34m.\u001b[0m\u001b[0mgenerative_from_recipe\u001b[0m\u001b[0;34m(\u001b[0m\u001b[0mmykernuller\u001b[0m\u001b[0;34m.\u001b[0m\u001b[0mMs\u001b[0m\u001b[0;34m,\u001b[0m \u001b[0mrecipes\u001b[0m\u001b[0;34m[\u001b[0m\u001b[0;36m0\u001b[0m\u001b[0;34m]\u001b[0m\u001b[0;34m)\u001b[0m\u001b[0;34m\u001b[0m\u001b[0;34m\u001b[0m\u001b[0m\n\u001b[0m",
      "\u001b[0;32m~/Documents/kernel/kernuller/kernuller/kernuller.py\u001b[0m in \u001b[0;36mgenerative_from_recipe\u001b[0;34m(matrix, recipe)\u001b[0m\n\u001b[1;32m   1601\u001b[0m     \u001b[0mnbad\u001b[0m \u001b[0;34m=\u001b[0m \u001b[0;36m0\u001b[0m\u001b[0;34m\u001b[0m\u001b[0;34m\u001b[0m\u001b[0m\n\u001b[1;32m   1602\u001b[0m     \u001b[0mpicks\u001b[0m \u001b[0;34m=\u001b[0m \u001b[0;34m[\u001b[0m\u001b[0;34m]\u001b[0m\u001b[0;34m\u001b[0m\u001b[0;34m\u001b[0m\u001b[0m\n\u001b[0;32m-> 1603\u001b[0;31m     \u001b[0;32mfor\u001b[0m \u001b[0mpick\u001b[0m \u001b[0;32min\u001b[0m \u001b[0mrecipes\u001b[0m\u001b[0;34m[\u001b[0m\u001b[0;36m0\u001b[0m\u001b[0;34m]\u001b[0m  \u001b[0;34m:\u001b[0m\u001b[0;34m\u001b[0m\u001b[0;34m\u001b[0m\u001b[0m\n\u001b[0m\u001b[1;32m   1604\u001b[0m         \u001b[0;31m#pick = np.random.randint(0, runningmat.shape[0])\u001b[0m\u001b[0;34m\u001b[0m\u001b[0;34m\u001b[0m\u001b[0;34m\u001b[0m\u001b[0m\n\u001b[1;32m   1605\u001b[0m         \u001b[0;31m#Warning: non idempotent code below!! (because of row_del)\u001b[0m\u001b[0;34m\u001b[0m\u001b[0;34m\u001b[0m\u001b[0;34m\u001b[0m\u001b[0m\n",
      "\u001b[0;31mNameError\u001b[0m: name 'recipes' is not defined"
     ]
    }
   ],
   "source": [
    "kernuller.generative_from_recipe(mykernuller.Ms, recipes[0])"
   ]
  },
  {
   "cell_type": "markdown",
   "metadata": {},
   "source": []
  },
  {
   "cell_type": "code",
   "execution_count": null,
   "metadata": {},
   "outputs": [],
   "source": []
  }
 ],
 "metadata": {
  "kernelspec": {
   "display_name": "Python 3 (ipykernel)",
   "language": "python",
   "name": "python3"
  },
  "language_info": {
   "codemirror_mode": {
    "name": "ipython",
    "version": 3
   },
   "file_extension": ".py",
   "mimetype": "text/x-python",
   "name": "python",
   "nbconvert_exporter": "python",
   "pygments_lexer": "ipython3",
   "version": "3.8.13"
  }
 },
 "nbformat": 4,
 "nbformat_minor": 4
}
