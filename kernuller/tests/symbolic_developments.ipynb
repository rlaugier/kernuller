{
 "cells": [
  {
   "cell_type": "markdown",
   "metadata": {},
   "source": [
    "# Symbolic developments\n",
    "One of the major advantages of the kernuller package is that the combiner matrices are managed in a symbolic format.\n",
    "\n",
    "While it is not case for default propagation when using `kernuller.get_I()` method, this symbolic format enables to manipulate the symbolic representation, not only of the combiner matrix, but also of the propagated light.\n",
    "\n",
    "Depending on the goal, one can develop the equations corresponding to the requested type of propagation including for axample different types of aberrations, or the location of the apertures."
   ]
  },
  {
   "cell_type": "code",
   "execution_count": null,
   "metadata": {},
   "outputs": [],
   "source": [
    "import numpy as np\n",
    "import sympy as sp\n",
    "import matplotlib.pyplot as plt\n",
    "#import kernuller_class as kernuller\n",
    "import kernuller\n",
    "import astropy.coordinates\n",
    "import astropy.units as u\n",
    "\n",
    "from time import time\n",
    "\n",
    "# =========================================================================\n",
    "# =========================================================================\n",
    "def mas2rad(x):\n",
    "    ''' Convenient little function to convert milliarcsec to radians '''\n",
    "    return(x * 4.8481368110953599e-09) # = x*np.pi/(180*3600*1000)\n",
    "\n",
    "# =========================================================================\n",
    "# =========================================================================\n",
    "def rad2mas(x):\n",
    "    '''  convert radians to mas'''\n",
    "    return(x / 4.8481368110953599e-09) # = x / (np.pi/(180*3600*1000))\n",
    "\n",
    "# =========================================================================\n",
    "# ========================================================================="
   ]
  },
  {
   "cell_type": "markdown",
   "metadata": {},
   "source": [
    "## The first step is to build a model"
   ]
  },
  {
   "cell_type": "code",
   "execution_count": null,
   "metadata": {},
   "outputs": [],
   "source": [
    "mymatrix = np.load(\"../data/4T_matrix.npy\", allow_pickle=True)\n",
    "mykernuller = kernuller.kernuller(kernuller.VLTI,5.e-6)\n",
    "mykernuller.build_model_from_matrix(mymatrix)\n",
    "mykernuller.Ks = sp.Matrix(kernuller.pairwise_kernel(6, blankcols=1))"
   ]
  },
  {
   "cell_type": "code",
   "execution_count": null,
   "metadata": {},
   "outputs": [],
   "source": [
    "Mn = np.array(sp.N(mykernuller.Ms), dtype=np.complex64)\n",
    "Mn2 = np.vstack((Mn[:1,:], np.zeros_like(Mn[1,:]), Mn[1:,:]))\n",
    "fig, axs = mykernuller.plot_outputs_smart(Mn2, nx=2,legendoffset=(1.5,0.5), dpi=100,\n",
    "                                          plotsize=3, osfrac=0.1, title=False, mainlinewidth=0.03,\n",
    "                                          labelsize=10,legendstring=\"center left\", outputontop=True,\n",
    "                                          labels=False, onlyoneticklabel=False)"
   ]
  },
  {
   "cell_type": "markdown",
   "metadata": {},
   "source": [
    "## Building the relevant equation\n",
    "### Position of the apertures"
   ]
  },
  {
   "cell_type": "code",
   "execution_count": null,
   "metadata": {},
   "outputs": [],
   "source": [
    "X = sp.Matrix(sp.symbols('X:{}'.format(mykernuller.Na+1), real=True))\n",
    "Y = sp.Matrix(sp.symbols('Y:{}'.format(mykernuller.Na+1), real=True))"
   ]
  },
  {
   "cell_type": "markdown",
   "metadata": {},
   "source": [
    "## Complex amplitude of light sampled by this array\n",
    "We need $\\lambda$ (wavelength), $\\alpha$ and $\\beta$ (sky position relative to optical axis) $\\zeta$ (an amplitude term for each input) $\\gamma$ (an input phase error term we didn't use here)."
   ]
  },
  {
   "cell_type": "code",
   "execution_count": null,
   "metadata": {},
   "outputs": [],
   "source": [
    "lamb = sp.symbols(\"lambda\", real=True)\n",
    "alpha = sp.symbols(\"alpha\", real=True)\n",
    "beta = sp.symbols(\"beta\", real=True)\n",
    "zeta = sp.Matrix(sp.symbols('zeta:{}'.format(mykernuller.Na), real=True))\n",
    "gamma = sp.Matrix(sp.symbols('gamma:{}'.format(mykernuller.Na), real=True))"
   ]
  },
  {
   "cell_type": "code",
   "execution_count": null,
   "metadata": {},
   "outputs": [],
   "source": [
    "zeta"
   ]
  },
  {
   "cell_type": "markdown",
   "metadata": {},
   "source": [
    "For now they are just symbols, but now we can use it in an equation."
   ]
  },
  {
   "cell_type": "code",
   "execution_count": null,
   "metadata": {},
   "outputs": [],
   "source": [
    "z = sp.Matrix([zeta[i]*sp.exp(sp.I*(2*sp.pi/lamb)*(alpha*X[i] + beta*Y[i])) for i in range(mykernuller.Na)])\n",
    "z"
   ]
  },
  {
   "cell_type": "markdown",
   "metadata": {},
   "source": [
    "## The equation for the output electric field\n",
    "Very easy, you just have to multiply it by the combiner matrix"
   ]
  },
  {
   "cell_type": "code",
   "execution_count": null,
   "metadata": {},
   "outputs": [],
   "source": [
    "anE = mykernuller.Ms@z\n",
    "anE"
   ]
  },
  {
   "cell_type": "markdown",
   "metadata": {},
   "source": [
    "One might prefer it under a different form:"
   ]
  },
  {
   "cell_type": "markdown",
   "metadata": {},
   "source": [
    "## Preparing substitutions\n",
    "Now we want to replace the constants by the value they will take. This can be prepared in a list. For now let us only replace $\\zeta$ and look at the result:"
   ]
  },
  {
   "cell_type": "code",
   "execution_count": null,
   "metadata": {},
   "outputs": [],
   "source": [
    "thesubs = []\n",
    "for i in range(mykernuller.Na):\n",
    "    #thesubs.append((X[i],X[i]-X[0]))\n",
    "    #thesubs.append((Y[i],Y[i]-Y[0]))\n",
    "    thesubs.append((zeta[i], 1))\n",
    "#thesubs.append((X[0],0))\n",
    "#thesubs.append((Y[0],0))"
   ]
  },
  {
   "cell_type": "markdown",
   "metadata": {},
   "source": []
  },
  {
   "cell_type": "code",
   "execution_count": null,
   "metadata": {},
   "outputs": [],
   "source": [
    "anE2 = sp.expand_mul(anE.subs(thesubs))\n",
    "anE2"
   ]
  },
  {
   "cell_type": "markdown",
   "metadata": {},
   "source": [
    "## Computing the output intensities"
   ]
  },
  {
   "cell_type": "code",
   "execution_count": null,
   "metadata": {},
   "outputs": [],
   "source": [
    "anI =  sp.matrix_multiply_elementwise(sp.conjugate(anE2), anE2)\n",
    "anI = sp.expand_mul(anI)\n",
    "anI"
   ]
  },
  {
   "cell_type": "markdown",
   "metadata": {},
   "source": [
    "## Now let us look at the kernel vector"
   ]
  },
  {
   "cell_type": "code",
   "execution_count": null,
   "metadata": {},
   "outputs": [],
   "source": [
    "kappa = mykernuller.Ks@anI\n",
    "kappa"
   ]
  },
  {
   "cell_type": "markdown",
   "metadata": {},
   "source": [
    "## Finer examination of a single kernel\n",
    "The sympy method `expand_complex()` is helpful to show the trigonometric form of the output (We knew this had to be real!)"
   ]
  },
  {
   "cell_type": "code",
   "execution_count": null,
   "metadata": {},
   "outputs": [],
   "source": [
    "aker = anI[1]-anI[2]\n",
    "sinform = sp.expand_complex(aker)\n",
    "sinform"
   ]
  },
  {
   "cell_type": "markdown",
   "metadata": {},
   "source": [
    "## Perspectives:\n",
    "From there, it becomes really easy to extract\n",
    "* derivatives of those expressions `sp.diff(expr, x)`\n",
    "* taylor series expansions `sp.series(expr,x, x0, n)`\n",
    "And more!\n",
    "\n",
    "From there, one could for example optimize the position of an aperture to maximize the kernel signal on a target."
   ]
  },
  {
   "cell_type": "markdown",
   "metadata": {},
   "source": [
    "# A form that is usabale numerically\n",
    "## The lambdify method\n",
    "As an example, let us create a kernel response map\n",
    "\n",
    "First, we must substitute the parameters that are going to remain constant, constituting the expression `sinapplied`"
   ]
  },
  {
   "cell_type": "code",
   "execution_count": null,
   "metadata": {},
   "outputs": [],
   "source": [
    "thesubs = []\n",
    "for i in range(mykernuller.Na):\n",
    "    #thesubs.append((X[i],X[i]-X[0]))\n",
    "    #thesubs.append((Y[i],Y[i]-Y[0]))\n",
    "    thesubs.append((X[i], mykernuller.pups[i, 0]))\n",
    "    thesubs.append((Y[i], mykernuller.pups[i, 1]))\n",
    "    thesubs.append((zeta[i], 1))\n",
    "thesubs.append((lamb, 3.6e-6))\n",
    "sinapplied = sinform.subs(thesubs)\n",
    "sinapplied"
   ]
  },
  {
   "cell_type": "markdown",
   "metadata": {},
   "source": [
    "Then we must turn this expression into a `numpy` function that can be executed very fast."
   ]
  },
  {
   "cell_type": "code",
   "execution_count": null,
   "metadata": {},
   "outputs": [],
   "source": [
    "mykerout = sp.utilities.lambdify((alpha, beta), sp.expand_complex(kappa).subs(thesubs))"
   ]
  },
  {
   "cell_type": "markdown",
   "metadata": {},
   "source": [
    "Now `mykerout` is a numpy function that returns a kernel vector from the position of a source.\n",
    "\n",
    "* It is *fast*\n",
    "* It is vectorized"
   ]
  },
  {
   "cell_type": "code",
   "execution_count": null,
   "metadata": {},
   "outputs": [],
   "source": [
    "%timeit akernel = mykerout(1e-6, 2e-6)"
   ]
  },
  {
   "cell_type": "code",
   "execution_count": null,
   "metadata": {},
   "outputs": [],
   "source": [
    "xx, yy = np.meshgrid(np.linspace(-15,15,1024), np.linspace(-15,15,1024))\n",
    "xxr = mas2rad(xx)\n",
    "yyr = mas2rad(yy)\n",
    "# Here we check how long it takes to compute the map\n",
    "start = time()\n",
    "amap = mykerout(xxr,yyr)\n",
    "amap = np.squeeze(amap) # Removing an unwanted dimension\n",
    "print(\"Map computed in %.2f seconds\"%(time() - start))"
   ]
  },
  {
   "cell_type": "code",
   "execution_count": null,
   "metadata": {},
   "outputs": [],
   "source": [
    "fig, axs = mykernuller.plot_response_maps(amap, title=False,cbar_label=\"Kernel-null value (single aperture flux)\",\n",
    "                                          extent=[np.min(xx),np.max(xx), np.min(yy), np.max(yy)],\n",
    "                                         plotsize=4, dpi=100)"
   ]
  },
  {
   "cell_type": "code",
   "execution_count": null,
   "metadata": {},
   "outputs": [],
   "source": [
    "from lmfit import minimize, Parameters\n",
    "from tqdm import tqdm\n",
    "from xara import mas2rad"
   ]
  },
  {
   "cell_type": "markdown",
   "metadata": {},
   "source": [
    "## Build a function that returns model signal\n",
    "Just a little bit of packaging, unit conversion..."
   ]
  },
  {
   "cell_type": "code",
   "execution_count": null,
   "metadata": {},
   "outputs": [],
   "source": [
    "def get_kn_signal(params):\n",
    "    alpha = mas2rad(params[\"alpha\"])\n",
    "    beta = mas2rad(params[\"beta\"])\n",
    "    ic = params[\"ic\"]\n",
    "    kn_sig = ic * mykerout(alpha, beta).flatten()\n",
    "    return kn_sig"
   ]
  },
  {
   "cell_type": "markdown",
   "metadata": {},
   "source": [
    "## Build a function that returns the residual"
   ]
  },
  {
   "cell_type": "code",
   "execution_count": null,
   "metadata": {},
   "outputs": [],
   "source": [
    "def get_kn_residual(params, y):\n",
    "    return y -  get_kn_signal(params)"
   ]
  },
  {
   "cell_type": "markdown",
   "metadata": {},
   "source": [
    "## Build a parameter object"
   ]
  },
  {
   "cell_type": "code",
   "execution_count": null,
   "metadata": {},
   "outputs": [],
   "source": [
    "params = Parameters()\n",
    "params.add(\"alpha\", value=5, min=-10, max=10)\n",
    "params.add(\"beta\", value=8, min=-10, max=10)\n",
    "params.add(\"ic\",value=3, min=0, max=20)"
   ]
  },
  {
   "cell_type": "markdown",
   "metadata": {},
   "source": [
    "## A Monte Carlo simulation for noisy data\n",
    "The measured data will be represented by `ys`\n",
    "\n",
    "Here, I only simulate read noise on the measured intensities"
   ]
  },
  {
   "cell_type": "code",
   "execution_count": null,
   "metadata": {},
   "outputs": [],
   "source": [
    "noisevec = np.random.normal(scale=0.1, size=(10000,3))\n",
    "ys = get_kn_signal(params)\n",
    "noisy = noisevec + ys.T"
   ]
  },
  {
   "cell_type": "markdown",
   "metadata": {},
   "source": [
    "Let us change the starting point slightly, so that it is not too easy"
   ]
  },
  {
   "cell_type": "code",
   "execution_count": null,
   "metadata": {},
   "outputs": [],
   "source": [
    "params = Parameters()\n",
    "params.add(\"alpha\", value=4.5, min=-10, max=10)\n",
    "params.add(\"beta\", value=7, min=-10, max=10)\n",
    "params.add(\"ic\",value=2.5, min=0, max=20)"
   ]
  },
  {
   "cell_type": "code",
   "execution_count": null,
   "metadata": {},
   "outputs": [],
   "source": [
    "soluce = minimize(get_kn_residual, params, args=(ys,))\n",
    "soluce"
   ]
  },
  {
   "cell_type": "markdown",
   "metadata": {},
   "source": [
    "## Now to do the model-fit for each of the realizations"
   ]
  },
  {
   "cell_type": "code",
   "execution_count": null,
   "metadata": {},
   "outputs": [],
   "source": [
    "sols = []\n",
    "alphas = []\n",
    "betas = []\n",
    "ics = []\n",
    "res = []\n",
    "for y in tqdm(noisy):\n",
    "    soluce = minimize(get_kn_residual, params, args=(y,))\n",
    "    sols.append(soluce.params)\n",
    "    alphas.append(soluce.params[\"alpha\"].value)\n",
    "    betas.append(soluce.params[\"beta\"].value)\n",
    "    ics.append(soluce.params[\"ic\"].value)\n",
    "    res.append(get_kn_residual(params, y))\n",
    "alphas = np.array(alphas)\n",
    "betas = np.array(betas)\n",
    "ics = np.array(ics)\n",
    "plt.figure(dpi=200)\n",
    "plt.hist2d(alphas, betas, bins=50)\n",
    "plt.xlabel(r\"$\\alpha$ (mas)\")\n",
    "plt.ylabel(r\"$\\beta$ (mas)\")\n",
    "plt.gca().set_aspect(\"equal\")\n",
    "plt.title(\"A distribution of the fitted position\")\n",
    "plt.show()\n",
    "get_kn_residual(params, y)"
   ]
  },
  {
   "cell_type": "markdown",
   "metadata": {},
   "source": [
    "## For a more standard way of looking at that kind of data, use corner plots"
   ]
  },
  {
   "cell_type": "code",
   "execution_count": null,
   "metadata": {},
   "outputs": [],
   "source": [
    "import corner\n",
    "figure = corner.corner(np.vstack((alphas, betas, ics)).T,labels=[r\"$\\alpha$ (mas)\", r\"$\\beta$ (mas)\", \"intensity\"])"
   ]
  },
  {
   "cell_type": "markdown",
   "metadata": {},
   "source": [
    "## Can also express the result in separation and position angle"
   ]
  },
  {
   "cell_type": "code",
   "execution_count": null,
   "metadata": {},
   "outputs": [],
   "source": [
    "rhos = np.sqrt(alphas**2+betas**2)\n",
    "cpform = alphas + 1j * betas\n",
    "rhos = np.abs(cpform)\n",
    "thetas = (np.angle(cpform)+np.pi/2)*180/np.pi"
   ]
  },
  {
   "cell_type": "code",
   "execution_count": null,
   "metadata": {},
   "outputs": [],
   "source": [
    "figure = corner.corner(np.vstack((rhos, thetas, ics)).T,labels=[r\"$\\rho$ (mas)\", r\"$\\theta$ (deg)\", \"intensity\"])"
   ]
  },
  {
   "cell_type": "code",
   "execution_count": null,
   "metadata": {},
   "outputs": [],
   "source": []
  },
  {
   "cell_type": "code",
   "execution_count": null,
   "metadata": {},
   "outputs": [],
   "source": []
  }
 ],
 "metadata": {
  "kernelspec": {
   "display_name": "Python 3",
   "language": "python",
   "name": "python3"
  },
  "language_info": {
   "codemirror_mode": {
    "name": "ipython",
    "version": 3
   },
   "file_extension": ".py",
   "mimetype": "text/x-python",
   "name": "python",
   "nbconvert_exporter": "python",
   "pygments_lexer": "ipython3",
   "version": "3.7.3"
  }
 },
 "nbformat": 4,
 "nbformat_minor": 4
}
